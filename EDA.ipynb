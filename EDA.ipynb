{
 "cells": [
  {
   "cell_type": "markdown",
   "metadata": {},
   "source": [
    "# Imports"
   ]
  },
  {
   "cell_type": "code",
   "execution_count": null,
   "metadata": {},
   "outputs": [],
   "source": [
    "# face_recognition, cmake, dlib"
   ]
  },
  {
   "cell_type": "code",
   "execution_count": 2,
   "metadata": {},
   "outputs": [],
   "source": [
    "import tensorflow.keras\n",
    "from PIL import Image, ImageOps\n",
    "import numpy as np\n",
    "import pandas as pd\n",
    "# import face_recognition\n",
    "import cv2"
   ]
  },
  {
   "cell_type": "markdown",
   "metadata": {},
   "source": [
    "# Set-Up Labels"
   ]
  },
  {
   "cell_type": "code",
   "execution_count": 3,
   "metadata": {},
   "outputs": [],
   "source": [
    "labels = pd.read_csv('converted_keras/labels.txt', header = None)\n",
    "\n",
    "labels = labels.rename(columns = {0:'Names'})\n",
    "new_index = []\n",
    "new_labels = []\n",
    "\n",
    "for x in labels['Names']:\n",
    "    new_index.append(int(x.split(\" \", 1)[0]))  # to ensure it is not appended as a list\n",
    "    new_labels.append(x.split(\" \", 1)[1])\n",
    "    \n",
    "prediction_dict = dict(zip(new_index, new_labels))"
   ]
  },
  {
   "cell_type": "markdown",
   "metadata": {},
   "source": [
    "# Code copied from Google "
   ]
  },
  {
   "cell_type": "code",
   "execution_count": 4,
   "metadata": {},
   "outputs": [],
   "source": [
    "# Disable scientific notation for clarity\n",
    "np.set_printoptions(suppress=True)\n",
    "\n",
    "# Load the model (set compile to False)\n",
    "model = tensorflow.keras.models.load_model('converted_keras/keras_model.h5', compile = False)\n"
   ]
  },
  {
   "cell_type": "code",
   "execution_count": 6,
   "metadata": {},
   "outputs": [
    {
     "name": "stdout",
     "output_type": "stream",
     "text": [
      "[[0.13841462 0.8415454  0.0200399 ]]\n",
      "Daniel Radcliffe\n"
     ]
    }
   ],
   "source": [
    "# Create the array of the right shape to feed into the keras model\n",
    "# The 'length' or number of images you can put into the array is\n",
    "# determined by the first position in the shape tuple, in this case 1.\n",
    "data = np.ndarray(shape=(1, 224, 224, 3), dtype=np.float32)\n",
    "\n",
    "# Replace this with the path to your image\n",
    "image = Image.open('img/test/grint_1.jpg')\n",
    "\n",
    "#resize the image to a 224x224 with the same strategy as in TM2:\n",
    "#resizing the image to be at least 224x224 and then cropping from the center\n",
    "size = (224, 224)\n",
    "image = ImageOps.fit(image, size, Image.ANTIALIAS)\n",
    "\n",
    "#turn the image into a numpy array\n",
    "image_array = np.asarray(image)\n",
    "\n",
    "# display the resized image\n",
    "# image.show()\n",
    "\n",
    "# Normalize the image\n",
    "normalized_image_array = (image_array.astype(np.float32) / 127.0) - 1\n",
    "\n",
    "# Load the image into the array\n",
    "data[0] = normalized_image_array\n",
    "\n",
    "# run the inference\n",
    "prediction = model.predict(data)\n",
    "print(prediction)\n",
    "print(prediction_dict[2])"
   ]
  },
  {
   "cell_type": "code",
   "execution_count": 10,
   "metadata": {},
   "outputs": [],
   "source": [
    "# This allows it to now return the name of the prediction"
   ]
  },
  {
   "cell_type": "markdown",
   "metadata": {},
   "source": [
    "# Using Computer Vision"
   ]
  },
  {
   "cell_type": "code",
   "execution_count": 54,
   "metadata": {},
   "outputs": [],
   "source": [
    "cap = cv2.VideoCapture(0)"
   ]
  },
  {
   "cell_type": "code",
   "execution_count": 55,
   "metadata": {},
   "outputs": [],
   "source": [
    "success, img = cap.read()"
   ]
  },
  {
   "cell_type": "code",
   "execution_count": 56,
   "metadata": {},
   "outputs": [],
   "source": [
    "cap.release()"
   ]
  },
  {
   "cell_type": "code",
   "execution_count": 57,
   "metadata": {},
   "outputs": [
    {
     "name": "stdout",
     "output_type": "stream",
     "text": [
      "[[0.14452581 0.5813541  0.27412015]]\n",
      "Daniel Radcliffe\n"
     ]
    }
   ],
   "source": [
    "res = cv2.resize(img, dsize=(224, 224), interpolation=cv2.INTER_CUBIC)\n",
    "normalized_image_array = (res.astype(np.float32) / 127.0) - 1\n",
    "data[0] = normalized_image_array\n",
    "prediction = model.predict(data)\n",
    "print(prediction)\n",
    "print(prediction_dict[2])"
   ]
  },
  {
   "cell_type": "code",
   "execution_count": 63,
   "metadata": {},
   "outputs": [],
   "source": [
    "# cv2.imshow(\"Webcam\",img)"
   ]
  },
  {
   "cell_type": "code",
   "execution_count": 64,
   "metadata": {},
   "outputs": [],
   "source": [
    "# cv2.waitKey(1)"
   ]
  },
  {
   "cell_type": "code",
   "execution_count": 9,
   "metadata": {},
   "outputs": [
    {
     "name": "stdout",
     "output_type": "stream",
     "text": [
      "[[0.00951035 0.9172767  0.073213  ]]\n",
      "Daniel Radcliffe\n",
      "[[0.04005071 0.8329365  0.12701271]]\n",
      "Daniel Radcliffe\n",
      "[[0.03147059 0.87761444 0.09091501]]\n",
      "Daniel Radcliffe\n",
      "[[0.03525032 0.8742131  0.09053658]]\n",
      "Daniel Radcliffe\n",
      "[[0.04802997 0.83042705 0.12154293]]\n",
      "Daniel Radcliffe\n",
      "[[0.05795386 0.80110383 0.14094235]]\n",
      "Daniel Radcliffe\n",
      "[[0.03519213 0.7723462  0.19246167]]\n",
      "Daniel Radcliffe\n",
      "[[0.0333266  0.6244317  0.34224167]]\n",
      "Daniel Radcliffe\n",
      "[[0.04816759 0.72259176 0.2292407 ]]\n",
      "Daniel Radcliffe\n",
      "[[0.07471374 0.6357946  0.2894917 ]]\n",
      "Daniel Radcliffe\n",
      "[[0.11941049 0.5047793  0.3758103 ]]\n",
      "Daniel Radcliffe\n",
      "[[0.11682076 0.60369146 0.27948773]]\n",
      "Daniel Radcliffe\n",
      "[[0.19810155 0.5417973  0.26010123]]\n",
      "Daniel Radcliffe\n",
      "[[0.148057   0.464964   0.38697898]]\n",
      "Daniel Radcliffe\n",
      "[[0.09270216 0.55312073 0.35417712]]\n",
      "Daniel Radcliffe\n",
      "[[0.05123777 0.6638167  0.28494558]]\n",
      "Daniel Radcliffe\n",
      "[[0.09089077 0.6034413  0.30566794]]\n",
      "Daniel Radcliffe\n",
      "[[0.12826756 0.5311652  0.34056732]]\n",
      "Daniel Radcliffe\n",
      "[[0.14383873 0.5724661  0.28369513]]\n",
      "Daniel Radcliffe\n",
      "[[0.08714868 0.6217442  0.2911071 ]]\n",
      "Daniel Radcliffe\n",
      "[[0.07244995 0.56265    0.36490005]]\n",
      "Daniel Radcliffe\n",
      "[[0.0643293  0.5895715  0.34609917]]\n",
      "Daniel Radcliffe\n",
      "[[0.07347573 0.5788507  0.34767362]]\n",
      "Daniel Radcliffe\n",
      "[[0.05553602 0.48089194 0.46357203]]\n",
      "Daniel Radcliffe\n",
      "[[0.05932245 0.4316965  0.5089811 ]]\n",
      "Daniel Radcliffe\n",
      "[[0.07001495 0.4438256  0.48615947]]\n",
      "Daniel Radcliffe\n",
      "[[0.05385641 0.6184699  0.3276737 ]]\n",
      "Daniel Radcliffe\n",
      "[[0.04783161 0.6049954  0.3471729 ]]\n",
      "Daniel Radcliffe\n",
      "[[0.06451482 0.6371564  0.29832876]]\n",
      "Daniel Radcliffe\n",
      "[[0.04090348 0.62904    0.33005658]]\n",
      "Daniel Radcliffe\n",
      "[[0.03676258 0.6390037  0.32423365]]\n",
      "Daniel Radcliffe\n",
      "[[0.04366997 0.5801839  0.3761461 ]]\n",
      "Daniel Radcliffe\n",
      "[[0.06173578 0.5906692  0.34759498]]\n",
      "Daniel Radcliffe\n",
      "[[0.05087886 0.62717015 0.32195097]]\n",
      "Daniel Radcliffe\n",
      "[[0.06610332 0.58983266 0.34406412]]\n",
      "Daniel Radcliffe\n",
      "[[0.05185644 0.57871395 0.36942968]]\n",
      "Daniel Radcliffe\n",
      "[[0.04721655 0.62270254 0.33008096]]\n",
      "Daniel Radcliffe\n",
      "[[0.05735778 0.62556165 0.3170805 ]]\n",
      "Daniel Radcliffe\n",
      "[[0.06934471 0.64326334 0.287392  ]]\n",
      "Daniel Radcliffe\n",
      "[[0.04926482 0.6475937  0.30314147]]\n",
      "Daniel Radcliffe\n",
      "[[0.05758974 0.63486254 0.30754766]]\n",
      "Daniel Radcliffe\n",
      "[[0.06617272 0.61974424 0.314083  ]]\n",
      "Daniel Radcliffe\n",
      "[[0.05735059 0.6356607  0.30698866]]\n",
      "Daniel Radcliffe\n",
      "[[0.06433792 0.6992216  0.23644051]]\n",
      "Daniel Radcliffe\n",
      "[[0.04648378 0.6529574  0.30055884]]\n",
      "Daniel Radcliffe\n",
      "[[0.04311881 0.5951034  0.36177787]]\n",
      "Daniel Radcliffe\n",
      "[[0.02963947 0.67613983 0.29422066]]\n",
      "Daniel Radcliffe\n",
      "[[0.02644843 0.8554359  0.11811563]]\n",
      "Daniel Radcliffe\n",
      "[[0.03899018 0.67886376 0.2821461 ]]\n",
      "Daniel Radcliffe\n",
      "[[0.03833995 0.73779225 0.22386783]]\n",
      "Daniel Radcliffe\n",
      "[[0.04024297 0.8217399  0.13801716]]\n",
      "Daniel Radcliffe\n",
      "[[0.08373989 0.768439   0.14782119]]\n",
      "Daniel Radcliffe\n",
      "[[0.04320327 0.86682546 0.08997129]]\n",
      "Daniel Radcliffe\n",
      "[[0.07271522 0.81826705 0.10901771]]\n",
      "Daniel Radcliffe\n",
      "[[0.0595415  0.8280617  0.11239678]]\n",
      "Daniel Radcliffe\n",
      "[[0.0681207  0.7810949  0.15078431]]\n",
      "Daniel Radcliffe\n",
      "[[0.06186225 0.8052766  0.13286121]]\n",
      "Daniel Radcliffe\n",
      "[[0.04611354 0.8075795  0.14630696]]\n",
      "Daniel Radcliffe\n",
      "[[0.05200827 0.7328572  0.21513449]]\n",
      "Daniel Radcliffe\n",
      "[[0.03883778 0.8078378  0.15332447]]\n",
      "Daniel Radcliffe\n",
      "[[0.06884889 0.73092425 0.20022686]]\n",
      "Daniel Radcliffe\n",
      "[[0.05530039 0.8117836  0.13291608]]\n",
      "Daniel Radcliffe\n",
      "[[0.06318293 0.77253324 0.16428386]]\n",
      "Daniel Radcliffe\n",
      "[[0.02445615 0.85946363 0.11608027]]\n",
      "Daniel Radcliffe\n",
      "[[0.03679236 0.8147583  0.14844932]]\n",
      "Daniel Radcliffe\n",
      "[[0.04977326 0.8008419  0.14938481]]\n",
      "Daniel Radcliffe\n",
      "[[0.07336822 0.73356366 0.1930681 ]]\n",
      "Daniel Radcliffe\n",
      "[[0.0647255  0.7578313  0.17744322]]\n",
      "Daniel Radcliffe\n",
      "[[0.06293619 0.73624116 0.20082265]]\n",
      "Daniel Radcliffe\n",
      "[[0.04200277 0.74690396 0.21109337]]\n",
      "Daniel Radcliffe\n",
      "[[0.04773625 0.7458435  0.20642021]]\n",
      "Daniel Radcliffe\n"
     ]
    },
    {
     "ename": "KeyboardInterrupt",
     "evalue": "",
     "output_type": "error",
     "traceback": [
      "\u001b[0;31m---------------------------------------------------------------------------\u001b[0m",
      "\u001b[0;31mKeyboardInterrupt\u001b[0m                         Traceback (most recent call last)",
      "\u001b[0;32m<ipython-input-9-26de3eaad907>\u001b[0m in \u001b[0;36m<module>\u001b[0;34m\u001b[0m\n\u001b[1;32m      2\u001b[0m \u001b[0;34m\u001b[0m\u001b[0m\n\u001b[1;32m      3\u001b[0m \u001b[0;32mwhile\u001b[0m \u001b[0;32mTrue\u001b[0m\u001b[0;34m:\u001b[0m\u001b[0;34m\u001b[0m\u001b[0;34m\u001b[0m\u001b[0m\n\u001b[0;32m----> 4\u001b[0;31m     \u001b[0msuccess\u001b[0m\u001b[0;34m,\u001b[0m \u001b[0mimg\u001b[0m \u001b[0;34m=\u001b[0m \u001b[0mcap\u001b[0m\u001b[0;34m.\u001b[0m\u001b[0mread\u001b[0m\u001b[0;34m(\u001b[0m\u001b[0;34m)\u001b[0m\u001b[0;34m\u001b[0m\u001b[0;34m\u001b[0m\u001b[0m\n\u001b[0m\u001b[1;32m      5\u001b[0m     \u001b[0mres\u001b[0m \u001b[0;34m=\u001b[0m \u001b[0mcv2\u001b[0m\u001b[0;34m.\u001b[0m\u001b[0mresize\u001b[0m\u001b[0;34m(\u001b[0m\u001b[0mimg\u001b[0m\u001b[0;34m,\u001b[0m \u001b[0mdsize\u001b[0m\u001b[0;34m=\u001b[0m\u001b[0;34m(\u001b[0m\u001b[0;36m224\u001b[0m\u001b[0;34m,\u001b[0m \u001b[0;36m224\u001b[0m\u001b[0;34m)\u001b[0m\u001b[0;34m,\u001b[0m \u001b[0minterpolation\u001b[0m\u001b[0;34m=\u001b[0m\u001b[0mcv2\u001b[0m\u001b[0;34m.\u001b[0m\u001b[0mINTER_CUBIC\u001b[0m\u001b[0;34m)\u001b[0m\u001b[0;34m\u001b[0m\u001b[0;34m\u001b[0m\u001b[0m\n\u001b[1;32m      6\u001b[0m     \u001b[0mnormalized_image_array\u001b[0m \u001b[0;34m=\u001b[0m \u001b[0;34m(\u001b[0m\u001b[0mres\u001b[0m\u001b[0;34m.\u001b[0m\u001b[0mastype\u001b[0m\u001b[0;34m(\u001b[0m\u001b[0mnp\u001b[0m\u001b[0;34m.\u001b[0m\u001b[0mfloat32\u001b[0m\u001b[0;34m)\u001b[0m \u001b[0;34m/\u001b[0m \u001b[0;36m127.0\u001b[0m\u001b[0;34m)\u001b[0m \u001b[0;34m-\u001b[0m \u001b[0;36m1\u001b[0m\u001b[0;34m\u001b[0m\u001b[0;34m\u001b[0m\u001b[0m\n",
      "\u001b[0;31mKeyboardInterrupt\u001b[0m: "
     ]
    }
   ],
   "source": [
    "cap = cv2.VideoCapture(0)\n",
    "data = np.ndarray(shape=(1, 224, 224, 3), dtype=np.float32)\n",
    "\n",
    "while True:\n",
    "    success, img = cap.read()\n",
    "    res = cv2.resize(img, dsize=(224, 224), interpolation=cv2.INTER_CUBIC)\n",
    "    normalized_image_array = (res.astype(np.float32) / 127.0) - 1\n",
    "    data[0] = normalized_image_array\n",
    "    prediction = model.predict(data)\n",
    "    print(prediction)\n",
    "    print(prediction_dict[2])\n",
    "    \n",
    "    cv2.imshow(\"Webcam\",img)\n",
    "    cv2.waitKey(1)"
   ]
  },
  {
   "cell_type": "code",
   "execution_count": 8,
   "metadata": {},
   "outputs": [],
   "source": []
  },
  {
   "cell_type": "code",
   "execution_count": null,
   "metadata": {},
   "outputs": [],
   "source": []
  }
 ],
 "metadata": {
  "kernelspec": {
   "display_name": "Python 3",
   "language": "python",
   "name": "python3"
  },
  "language_info": {
   "codemirror_mode": {
    "name": "ipython",
    "version": 3
   },
   "file_extension": ".py",
   "mimetype": "text/x-python",
   "name": "python",
   "nbconvert_exporter": "python",
   "pygments_lexer": "ipython3",
   "version": "3.8.3"
  }
 },
 "nbformat": 4,
 "nbformat_minor": 4
}
