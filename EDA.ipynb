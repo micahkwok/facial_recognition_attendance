{
 "cells": [
  {
   "cell_type": "markdown",
   "metadata": {},
   "source": [
    "# Imports"
   ]
  },
  {
   "cell_type": "code",
   "execution_count": null,
   "metadata": {},
   "outputs": [],
   "source": [
    "# face_recognition, cmake, dlib"
   ]
  },
  {
   "cell_type": "code",
   "execution_count": 3,
   "metadata": {},
   "outputs": [],
   "source": [
    "import tensorflow.keras\n",
    "from PIL import Image, ImageOps\n",
    "import numpy as np\n",
    "import pandas as pd\n",
    "import face_recognition\n",
    "import cv2"
   ]
  },
  {
   "cell_type": "markdown",
   "metadata": {},
   "source": [
    "# Set-Up Labels"
   ]
  },
  {
   "cell_type": "code",
   "execution_count": 20,
   "metadata": {},
   "outputs": [],
   "source": [
    "labels = pd.read_csv('converted_keras/labels.txt', header = None)\n",
    "\n",
    "labels = labels.rename(columns = {0:'Names'})\n",
    "new_index = []\n",
    "new_labels = []\n",
    "\n",
    "for x in labels['Names']:\n",
    "    new_index.append(int(x.split(\" \", 1)[0]))  # to ensure it is not appended as a list\n",
    "    new_labels.append(x.split(\" \", 1)[1])\n",
    "    \n",
    "prediction_dict = dict(zip(new_index, new_labels))"
   ]
  },
  {
   "cell_type": "markdown",
   "metadata": {},
   "source": [
    "# Code copied from Google "
   ]
  },
  {
   "cell_type": "code",
   "execution_count": 21,
   "metadata": {},
   "outputs": [],
   "source": [
    "# Disable scientific notation for clarity\n",
    "np.set_printoptions(suppress=True)\n",
    "\n",
    "# Load the model (set compile to False)\n",
    "model = tensorflow.keras.models.load_model('converted_keras/keras_model.h5', compile = False)\n"
   ]
  },
  {
   "cell_type": "code",
   "execution_count": 22,
   "metadata": {},
   "outputs": [
    {
     "name": "stdout",
     "output_type": "stream",
     "text": [
      "[[0.17614621 0.73739374 0.08646011]]\n",
      "Rupert Grint\n"
     ]
    }
   ],
   "source": [
    "# Create the array of the right shape to feed into the keras model\n",
    "# The 'length' or number of images you can put into the array is\n",
    "# determined by the first position in the shape tuple, in this case 1.\n",
    "data = np.ndarray(shape=(1, 224, 224, 3), dtype=np.float32)\n",
    "\n",
    "# Replace this with the path to your image\n",
    "image = Image.open('img/test/radcliffe_1.jpg')\n",
    "\n",
    "#resize the image to a 224x224 with the same strategy as in TM2:\n",
    "#resizing the image to be at least 224x224 and then cropping from the center\n",
    "size = (224, 224)\n",
    "image = ImageOps.fit(image, size, Image.ANTIALIAS)\n",
    "\n",
    "#turn the image into a numpy array\n",
    "image_array = np.asarray(image)\n",
    "\n",
    "# display the resized image\n",
    "# image.show()\n",
    "\n",
    "# Normalize the image\n",
    "normalized_image_array = (image_array.astype(np.float32) / 127.0) - 1\n",
    "\n",
    "# Load the image into the array\n",
    "data[0] = normalized_image_array\n",
    "\n",
    "# run the inference\n",
    "prediction = model.predict(data)\n",
    "\n",
    "predicted_name = prediction_dict[prediction.argmax()]\n",
    "\n",
    "print(prediction)\n",
    "print(predicted_name)"
   ]
  },
  {
   "cell_type": "code",
   "execution_count": 10,
   "metadata": {},
   "outputs": [],
   "source": [
    "# This allows it to now return the name of the prediction"
   ]
  },
  {
   "cell_type": "markdown",
   "metadata": {},
   "source": [
    "# Using Computer Vision"
   ]
  },
  {
   "cell_type": "code",
   "execution_count": 54,
   "metadata": {},
   "outputs": [],
   "source": [
    "# cap = cv2.VideoCapture(0)"
   ]
  },
  {
   "cell_type": "code",
   "execution_count": 55,
   "metadata": {},
   "outputs": [],
   "source": [
    "# success, img = cap.read()"
   ]
  },
  {
   "cell_type": "code",
   "execution_count": 56,
   "metadata": {},
   "outputs": [],
   "source": [
    "# cap.release()"
   ]
  },
  {
   "cell_type": "code",
   "execution_count": 57,
   "metadata": {},
   "outputs": [
    {
     "name": "stdout",
     "output_type": "stream",
     "text": [
      "[[0.14452581 0.5813541  0.27412015]]\n",
      "Daniel Radcliffe\n"
     ]
    }
   ],
   "source": [
    "# res = cv2.resize(img, dsize=(224, 224), interpolation=cv2.INTER_CUBIC)\n",
    "# normalized_image_array = (res.astype(np.float32) / 127.0) - 1\n",
    "# data[0] = normalized_image_array\n",
    "# prediction = model.predict(data)\n",
    "# print(prediction)\n",
    "# print(prediction_dict[2])"
   ]
  },
  {
   "cell_type": "code",
   "execution_count": 63,
   "metadata": {},
   "outputs": [],
   "source": [
    "# cv2.imshow(\"Webcam\",img)"
   ]
  },
  {
   "cell_type": "code",
   "execution_count": 64,
   "metadata": {},
   "outputs": [],
   "source": [
    "# cv2.waitKey(1)"
   ]
  },
  {
   "cell_type": "code",
   "execution_count": 29,
   "metadata": {},
   "outputs": [
    {
     "name": "stdout",
     "output_type": "stream",
     "text": [
      "[[0.09683815 0.79991466 0.10324719]]\n",
      "Rupert Grint: 0.800000011920929\n"
     ]
    },
    {
     "data": {
      "text/plain": [
       "-1"
      ]
     },
     "execution_count": 29,
     "metadata": {},
     "output_type": "execute_result"
    }
   ],
   "source": [
    "cap = cv2.VideoCapture(0)\n",
    "data = np.ndarray(shape=(1, 224, 224, 3), dtype=np.float32)\n",
    "\n",
    "# while True:\n",
    "success, img = cap.read()\n",
    "res = cv2.resize(img, dsize=(224, 224), interpolation=cv2.INTER_CUBIC)\n",
    "normalized_image_array = (res.astype(np.float32) / 127.0) - 1\n",
    "\n",
    "data[0] = normalized_image_array\n",
    "prediction = model.predict(data)\n",
    "\n",
    "predicted_score = round(prediction.max(),2)\n",
    "predicted_name = prediction_dict[prediction.argmax()]\n",
    "\n",
    "print(prediction)\n",
    "print(f'{predicted_name}: {predicted_score}')\n",
    "\n",
    "# Face Location\n",
    "face_locations = face_recognition.face_locations(img)\n",
    "\n",
    "# print(\"Found {} faces in this photograph.\".format(len(face_locations)))\n",
    "for face_location in face_locations:\n",
    "    # Print the location of each face in this image\n",
    "    top, right, bottom, left = face_location\n",
    "\n",
    "    # We can draw rectangle using OpenCV rectangle method\n",
    "    cv2.rectangle(img, (left, top), (right, bottom), (255, 255, 1), 3)   # Face Rectangle\n",
    "    cv2.putText(img,predicted_name, (left+6, bottom+32), cv2.FONT_HERSHEY_COMPLEX,1,(255,255,255),2)     # Name Text\n",
    "    cv2.putText(img,str(predicted_score) + \" probability\", (left+6, bottom+70), cv2.FONT_HERSHEY_COMPLEX,1,(255,255,255),2)  # Probability\n",
    "\n",
    "#? is it supposed to show img or res?\n",
    "cv2.imshow(\"Webcam\",img)\n",
    "cv2.waitKey(1)"
   ]
  },
  {
   "cell_type": "code",
   "execution_count": 30,
   "metadata": {},
   "outputs": [],
   "source": [
    "cap.release()\n"
   ]
  },
  {
   "cell_type": "code",
   "execution_count": 19,
   "metadata": {},
   "outputs": [],
   "source": [
    "empty_frame = pd.DataFrame()\n",
    "empty_frame.to_csv('attendance_register.csv')"
   ]
  },
  {
   "cell_type": "code",
   "execution_count": 16,
   "metadata": {},
   "outputs": [],
   "source": [
    "from datetime import datetime"
   ]
  },
  {
   "cell_type": "code",
   "execution_count": 12,
   "metadata": {},
   "outputs": [],
   "source": [
    "# from https://analyticsindiamag.com/a-complete-guide-on-building-a-face-attendance-system/\n",
    "\n",
    "def attendance(name):\n",
    "    with open('Attendance_Register.csv','r+') as f:\n",
    "        DataList = f.readlines()\n",
    "        names = []\n",
    "        for data in DataList:\n",
    "            ent = data.split(',')\n",
    "            names.append(ent[0])\n",
    "        if name not in names:\n",
    "            curr = datetime.now()\n",
    "            dt = curr.strftime('%H:%M:%S')\n",
    "            f.writelines(f'\\n{name},{dt}')"
   ]
  },
  {
   "cell_type": "code",
   "execution_count": null,
   "metadata": {},
   "outputs": [],
   "source": []
  }
 ],
 "metadata": {
  "kernelspec": {
   "display_name": "Python 3",
   "language": "python",
   "name": "python3"
  },
  "language_info": {
   "codemirror_mode": {
    "name": "ipython",
    "version": 3
   },
   "file_extension": ".py",
   "mimetype": "text/x-python",
   "name": "python",
   "nbconvert_exporter": "python",
   "pygments_lexer": "ipython3",
   "version": "3.8.3"
  }
 },
 "nbformat": 4,
 "nbformat_minor": 4
}
